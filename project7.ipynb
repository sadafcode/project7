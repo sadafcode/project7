{
  "nbformat": 4,
  "nbformat_minor": 0,
  "metadata": {
    "colab": {
      "provenance": [],
      "authorship_tag": "ABX9TyNiYmj44AdJw8z3OqiL9xLa",
      "include_colab_link": true
    },
    "kernelspec": {
      "name": "python3",
      "display_name": "Python 3"
    },
    "language_info": {
      "name": "python"
    }
  },
  "cells": [
    {
      "cell_type": "markdown",
      "metadata": {
        "id": "view-in-github",
        "colab_type": "text"
      },
      "source": [
        "<a href=\"https://colab.research.google.com/github/sadafcode/project7/blob/main/project7.ipynb\" target=\"_parent\"><img src=\"https://colab.research.google.com/assets/colab-badge.svg\" alt=\"Open In Colab\"/></a>"
      ]
    },
    {
      "cell_type": "code",
      "execution_count": 2,
      "metadata": {
        "colab": {
          "base_uri": "https://localhost:8080/"
        },
        "id": "nbz0JZ5SIiWv",
        "outputId": "4248b511-550c-4c65-e790-71cdce3dbfd2"
      },
      "outputs": [
        {
          "output_type": "stream",
          "name": "stdout",
          "text": [
            "welcome to password generator\n",
            "how many password you want to generate: 5\n",
            "input the length of your password: 6\n",
            "\n",
            "here are your passwords \n",
            "5W2^$n\n",
            "5eDpY3\n",
            "U!QsY$\n",
            "tl$c$T\n",
            "BnSSJe\n"
          ]
        }
      ],
      "source": [
        "import random\n",
        "print(\"welcome to password generator\")\n",
        "chars = \"abcdefghijklmnopqrstuvwxyzABCDEFGHIJKLMNOPQRSTUVWXYZ!@#$%^&*()0123456789\"\n",
        "number = int(input(\"how many password you want to generate: \"))\n",
        "length = int(input(\"input the length of your password: \"))\n",
        "print(\"\\nhere are your passwords \")\n",
        "\n",
        "for pwd in range(number):\n",
        "  password=\"\"\n",
        "  for c in range(length):\n",
        "    password += random.choice(chars)\n",
        "  print(password)\n"
      ]
    }
  ]
}